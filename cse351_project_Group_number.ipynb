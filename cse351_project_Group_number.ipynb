{
 "cells": [
  {
   "cell_type": "code",
   "execution_count": 118,
   "id": "418b8d93-ba18-45d3-927f-e636ccfe3521",
   "metadata": {},
   "outputs": [],
   "source": [
    "import pandas as pd\n",
    "import numpy as np\n",
    "data = pd.read_csv(\"train.csv\")"
   ]
  },
  {
   "cell_type": "code",
   "execution_count": 119,
   "id": "cea11324-9965-4388-a47b-ccc7fca129f6",
   "metadata": {},
   "outputs": [],
   "source": [
    "from sklearn.model_selection import train_test_split\n",
    "\n",
    "train_data, test_data = train_test_split(data, test_size=0.2)"
   ]
  },
  {
   "cell_type": "code",
   "execution_count": 146,
   "id": "f020920e-9086-4c06-9617-fee85bc81721",
   "metadata": {},
   "outputs": [],
   "source": [
    "new_train_data = train_data[['PassengerId', 'Survived', 'Pclass', 'Sex', 'Age', 'SibSp', 'Parch', 'Cabin']]\n",
    "new_train_data = new_train_data.replace([np.inf, -np.inf], np.nan)\n",
    "new_test_data=test_data[['PassengerId', 'Pclass', 'Sex', 'Age', 'SibSp', 'Parch', 'Cabin']]"
   ]
  },
  {
   "cell_type": "code",
   "execution_count": 156,
   "id": "a6c1d1ad-844b-46d0-9140-dc8add9aa55f",
   "metadata": {},
   "outputs": [],
   "source": [
    "# I really just cleaned the data set by dropping NAN values and dropping columns that weren't necessary for my evaluations.\n",
    "# I dropped the \"Port of Emarkation\" column because I felt that it didn't matter where they got on the boat from as they all still\n",
    "# ended up in the same place... I also dropped the \"Ticket number\" column becuase it seemed like just another way to identify\n",
    "# passengers but we already have PassengerID. Lastly I dropped \"Fare\" because I didn't think the price of the ticket really mattered.\n",
    "\n",
    "new_train_data = new_train_data.dropna()\n",
    "new_test_data = new_test_data.dropna()"
   ]
  },
  {
   "cell_type": "code",
   "execution_count": 122,
   "id": "b19c6e9b-7dd9-4e48-a0ae-17765a92b0bc",
   "metadata": {},
   "outputs": [
    {
     "data": {
      "text/html": [
       "<div>\n",
       "<style scoped>\n",
       "    .dataframe tbody tr th:only-of-type {\n",
       "        vertical-align: middle;\n",
       "    }\n",
       "\n",
       "    .dataframe tbody tr th {\n",
       "        vertical-align: top;\n",
       "    }\n",
       "\n",
       "    .dataframe thead th {\n",
       "        text-align: right;\n",
       "    }\n",
       "</style>\n",
       "<table border=\"1\" class=\"dataframe\">\n",
       "  <thead>\n",
       "    <tr style=\"text-align: right;\">\n",
       "      <th></th>\n",
       "      <th>PassengerId</th>\n",
       "      <th>Survived</th>\n",
       "      <th>Pclass</th>\n",
       "      <th>Sex</th>\n",
       "      <th>Age</th>\n",
       "      <th>SibSp</th>\n",
       "      <th>Parch</th>\n",
       "      <th>Cabin</th>\n",
       "    </tr>\n",
       "  </thead>\n",
       "  <tbody>\n",
       "    <tr>\n",
       "      <th>62</th>\n",
       "      <td>63</td>\n",
       "      <td>0</td>\n",
       "      <td>1</td>\n",
       "      <td>male</td>\n",
       "      <td>45.0</td>\n",
       "      <td>1</td>\n",
       "      <td>0</td>\n",
       "      <td>C83</td>\n",
       "    </tr>\n",
       "    <tr>\n",
       "      <th>88</th>\n",
       "      <td>89</td>\n",
       "      <td>1</td>\n",
       "      <td>1</td>\n",
       "      <td>female</td>\n",
       "      <td>23.0</td>\n",
       "      <td>3</td>\n",
       "      <td>2</td>\n",
       "      <td>C23 C25 C27</td>\n",
       "    </tr>\n",
       "    <tr>\n",
       "      <th>820</th>\n",
       "      <td>821</td>\n",
       "      <td>1</td>\n",
       "      <td>1</td>\n",
       "      <td>female</td>\n",
       "      <td>52.0</td>\n",
       "      <td>1</td>\n",
       "      <td>1</td>\n",
       "      <td>B69</td>\n",
       "    </tr>\n",
       "    <tr>\n",
       "      <th>263</th>\n",
       "      <td>264</td>\n",
       "      <td>0</td>\n",
       "      <td>1</td>\n",
       "      <td>male</td>\n",
       "      <td>40.0</td>\n",
       "      <td>0</td>\n",
       "      <td>0</td>\n",
       "      <td>B94</td>\n",
       "    </tr>\n",
       "    <tr>\n",
       "      <th>434</th>\n",
       "      <td>435</td>\n",
       "      <td>0</td>\n",
       "      <td>1</td>\n",
       "      <td>male</td>\n",
       "      <td>50.0</td>\n",
       "      <td>1</td>\n",
       "      <td>0</td>\n",
       "      <td>E44</td>\n",
       "    </tr>\n",
       "  </tbody>\n",
       "</table>\n",
       "</div>"
      ],
      "text/plain": [
       "     PassengerId  Survived  Pclass     Sex   Age  SibSp  Parch        Cabin\n",
       "62            63         0       1    male  45.0      1      0          C83\n",
       "88            89         1       1  female  23.0      3      2  C23 C25 C27\n",
       "820          821         1       1  female  52.0      1      1          B69\n",
       "263          264         0       1    male  40.0      0      0          B94\n",
       "434          435         0       1    male  50.0      1      0          E44"
      ]
     },
     "execution_count": 122,
     "metadata": {},
     "output_type": "execute_result"
    }
   ],
   "source": [
    "new_train_data.head()"
   ]
  },
  {
   "cell_type": "code",
   "execution_count": 123,
   "id": "f9c9ef67-6cd0-401b-838a-1229307a3911",
   "metadata": {},
   "outputs": [],
   "source": [
    "from sklearn.preprocessing import LabelEncoder\n"
   ]
  },
  {
   "cell_type": "code",
   "execution_count": 158,
   "id": "29387679-c056-4518-a12c-6ff61bddff6a",
   "metadata": {},
   "outputs": [
    {
     "name": "stderr",
     "output_type": "stream",
     "text": [
      "C:\\Users\\bella\\AppData\\Local\\Temp\\ipykernel_26468\\243121171.py:2: SettingWithCopyWarning: \n",
      "A value is trying to be set on a copy of a slice from a DataFrame.\n",
      "Try using .loc[row_indexer,col_indexer] = value instead\n",
      "\n",
      "See the caveats in the documentation: https://pandas.pydata.org/pandas-docs/stable/user_guide/indexing.html#returning-a-view-versus-a-copy\n",
      "  new_train_data['Sex'] = labelencoder.fit_transform(new_train_data['Sex'])\n"
     ]
    }
   ],
   "source": [
    "# Dealing with categorical data was pretty easy for this data set since sex was a binary column we could easy do\n",
    "# 0 and 1 encoding. \n",
    "labelencoder = LabelEncoder()\n",
    "new_train_data['Sex'] = labelencoder.fit_transform(new_train_data['Sex'])\n",
    "new_test_data['Sex'] = labelencoder.fit_transform(new_test_data['Sex'])"
   ]
  },
  {
   "cell_type": "code",
   "execution_count": 159,
   "id": "4aa95b07-35f6-4674-b250-8f72e040d06c",
   "metadata": {},
   "outputs": [
    {
     "name": "stderr",
     "output_type": "stream",
     "text": [
      "C:\\Users\\bella\\AppData\\Local\\Temp\\ipykernel_26468\\4220376548.py:1: SettingWithCopyWarning: \n",
      "A value is trying to be set on a copy of a slice from a DataFrame.\n",
      "Try using .loc[row_indexer,col_indexer] = value instead\n",
      "\n",
      "See the caveats in the documentation: https://pandas.pydata.org/pandas-docs/stable/user_guide/indexing.html#returning-a-view-versus-a-copy\n",
      "  new_train_data['Cabin'] = labelencoder.fit_transform(new_train_data['Cabin'])\n"
     ]
    },
    {
     "data": {
      "text/html": [
       "<div>\n",
       "<style scoped>\n",
       "    .dataframe tbody tr th:only-of-type {\n",
       "        vertical-align: middle;\n",
       "    }\n",
       "\n",
       "    .dataframe tbody tr th {\n",
       "        vertical-align: top;\n",
       "    }\n",
       "\n",
       "    .dataframe thead th {\n",
       "        text-align: right;\n",
       "    }\n",
       "</style>\n",
       "<table border=\"1\" class=\"dataframe\">\n",
       "  <thead>\n",
       "    <tr style=\"text-align: right;\">\n",
       "      <th></th>\n",
       "      <th>PassengerId</th>\n",
       "      <th>Survived</th>\n",
       "      <th>Pclass</th>\n",
       "      <th>Sex</th>\n",
       "      <th>Age</th>\n",
       "      <th>SibSp</th>\n",
       "      <th>Parch</th>\n",
       "      <th>Cabin</th>\n",
       "    </tr>\n",
       "  </thead>\n",
       "  <tbody>\n",
       "    <tr>\n",
       "      <th>62</th>\n",
       "      <td>63</td>\n",
       "      <td>0</td>\n",
       "      <td>1</td>\n",
       "      <td>1</td>\n",
       "      <td>45.0</td>\n",
       "      <td>1</td>\n",
       "      <td>0</td>\n",
       "      <td>64</td>\n",
       "    </tr>\n",
       "    <tr>\n",
       "      <th>88</th>\n",
       "      <td>89</td>\n",
       "      <td>1</td>\n",
       "      <td>1</td>\n",
       "      <td>0</td>\n",
       "      <td>23.0</td>\n",
       "      <td>3</td>\n",
       "      <td>2</td>\n",
       "      <td>51</td>\n",
       "    </tr>\n",
       "    <tr>\n",
       "      <th>820</th>\n",
       "      <td>821</td>\n",
       "      <td>1</td>\n",
       "      <td>1</td>\n",
       "      <td>0</td>\n",
       "      <td>52.0</td>\n",
       "      <td>1</td>\n",
       "      <td>1</td>\n",
       "      <td>30</td>\n",
       "    </tr>\n",
       "    <tr>\n",
       "      <th>263</th>\n",
       "      <td>264</td>\n",
       "      <td>0</td>\n",
       "      <td>1</td>\n",
       "      <td>1</td>\n",
       "      <td>40.0</td>\n",
       "      <td>0</td>\n",
       "      <td>0</td>\n",
       "      <td>37</td>\n",
       "    </tr>\n",
       "    <tr>\n",
       "      <th>434</th>\n",
       "      <td>435</td>\n",
       "      <td>0</td>\n",
       "      <td>1</td>\n",
       "      <td>1</td>\n",
       "      <td>50.0</td>\n",
       "      <td>1</td>\n",
       "      <td>0</td>\n",
       "      <td>103</td>\n",
       "    </tr>\n",
       "  </tbody>\n",
       "</table>\n",
       "</div>"
      ],
      "text/plain": [
       "     PassengerId  Survived  Pclass  Sex   Age  SibSp  Parch  Cabin\n",
       "62            63         0       1    1  45.0      1      0     64\n",
       "88            89         1       1    0  23.0      3      2     51\n",
       "820          821         1       1    0  52.0      1      1     30\n",
       "263          264         0       1    1  40.0      0      0     37\n",
       "434          435         0       1    1  50.0      1      0    103"
      ]
     },
     "execution_count": 159,
     "metadata": {},
     "output_type": "execute_result"
    }
   ],
   "source": [
    "new_train_data['Cabin'] = labelencoder.fit_transform(new_train_data['Cabin'])\n",
    "new_train_data.head()"
   ]
  },
  {
   "cell_type": "code",
   "execution_count": 126,
   "id": "c8f1400d-e289-4695-a018-316a52a26aaf",
   "metadata": {},
   "outputs": [
    {
     "data": {
      "text/plain": [
       "PassengerId   -0.082260\n",
       "Survived      -0.050795\n",
       "Pclass         1.000000\n",
       "Sex           -0.049200\n",
       "Age           -0.279832\n",
       "SibSp         -0.138221\n",
       "Parch          0.029491\n",
       "Cabin          0.466973\n",
       "Name: Pclass, dtype: float64"
      ]
     },
     "execution_count": 126,
     "metadata": {},
     "output_type": "execute_result"
    }
   ],
   "source": [
    "# Here we have a correlation matrix with a passengers socioeconomic status (as determined by Pclass) and all the other attributes\n",
    "socioeconomic_status_matrix = new_train_data.corr()['Pclass']\n",
    "socioeconomic_status_matrix"
   ]
  },
  {
   "cell_type": "code",
   "execution_count": 127,
   "id": "ddd1f747-7c24-42b1-a422-2ecc121a8246",
   "metadata": {},
   "outputs": [],
   "source": [
    "# Clearly as we can see here there is the a high correlation between the socioeconomic status and the age.\n",
    "# The negative correlation shows that as age goes up, socioeconomic class tends to go \"down\"\n",
    "# however due the encoding, this actually means that the older people are more affluent.\n",
    "# There is also a high correlation between cabin and socioeconomic status"
   ]
  },
  {
   "cell_type": "code",
   "execution_count": 128,
   "id": "afccb449-9bfd-4de2-9481-87c42fb7ea5c",
   "metadata": {},
   "outputs": [],
   "source": [
    "import matplotlib.pyplot as plt\n",
    "import seaborn as sns"
   ]
  },
  {
   "cell_type": "code",
   "execution_count": 129,
   "id": "b92c8f3f-d511-455d-8932-ed24ecbbc131",
   "metadata": {},
   "outputs": [
    {
     "data": {
      "image/png": "[encoded data removed]",
      "text/plain": [
       "<Figure size 640x480 with 1 Axes>"
      ]
     },
     "metadata": {},
     "output_type": "display_data"
    }
   ],
   "source": [
    "# Here we are going to see what the important attributes seem to be by graphing them against the proportion of surviving passengers\n",
    "# Side note: I did not remove outliers as part of the EDA because as you can see on these below graphs, there doesn't seem to be any outliers\n",
    "sns.countplot(x=\"Sex\", hue=new_train_data[\"Survived\"].astype(str), data=new_train_data)\n",
    "plt.show()\n",
    "# 0 = female 1 = male"
   ]
  },
  {
   "cell_type": "code",
   "execution_count": 130,
   "id": "5d652f17-360a-4390-90a6-a8d467c3990c",
   "metadata": {},
   "outputs": [
    {
     "name": "stderr",
     "output_type": "stream",
     "text": [
      "C:\\Users\\bella\\anaconda3\\Lib\\site-packages\\seaborn\\_oldcore.py:1119: FutureWarning: use_inf_as_na option is deprecated and will be removed in a future version. Convert inf values to NaN before operating instead.\n",
      "  with pd.option_context('mode.use_inf_as_na', True):\n"
     ]
    },
    {
     "data": {
      "image/png": "[encoded data removed]",
      "text/plain": [
       "<Figure size 640x480 with 1 Axes>"
      ]
     },
     "metadata": {},
     "output_type": "display_data"
    }
   ],
   "source": [
    "sns.histplot(data=new_train_data, x= new_train_data[\"Age\"], hue=\"Survived\")\n",
    "        \n",
    "plt.show()"
   ]
  },
  {
   "cell_type": "code",
   "execution_count": 131,
   "id": "dfb89f3e-9a4c-49c7-9b15-e283bdab4b12",
   "metadata": {},
   "outputs": [
    {
     "data": {
      "image/png": "[encoded data removed]",
      "text/plain": [
       "<Figure size 640x480 with 1 Axes>"
      ]
     },
     "metadata": {},
     "output_type": "display_data"
    }
   ],
   "source": [
    "sns.countplot(x=\"Pclass\", hue=new_train_data[\"Survived\"].astype(str), data=new_train_data)\n",
    "plt.show()"
   ]
  },
  {
   "cell_type": "code",
   "execution_count": 132,
   "id": "1ed7bbdd-21fd-4487-a8b2-5425bbc7993c",
   "metadata": {},
   "outputs": [
    {
     "data": {
      "image/png": "[encoded data removed]",
      "text/plain": [
       "<Figure size 640x480 with 1 Axes>"
      ]
     },
     "metadata": {},
     "output_type": "display_data"
    }
   ],
   "source": [
    "sns.countplot(x=\"SibSp\", hue=new_train_data[\"Survived\"].astype(str), data=new_train_data)\n",
    "plt.show()"
   ]
  },
  {
   "cell_type": "code",
   "execution_count": 133,
   "id": "5f194ed2-fae5-42aa-a2bc-8b8e2984d2d1",
   "metadata": {},
   "outputs": [
    {
     "data": {
      "image/png": "[encoded data removed]",
      "text/plain": [
       "<Figure size 640x480 with 1 Axes>"
      ]
     },
     "metadata": {},
     "output_type": "display_data"
    }
   ],
   "source": [
    "sns.countplot(x=\"Parch\", hue=new_train_data[\"Survived\"].astype(str), data=new_train_data)\n",
    "plt.show()"
   ]
  },
  {
   "cell_type": "code",
   "execution_count": 142,
   "id": "361781ab-b244-4e8f-bf6f-a4120200f848",
   "metadata": {},
   "outputs": [
    {
     "data": {
      "text/html": [
       "<div>\n",
       "<style scoped>\n",
       "    .dataframe tbody tr th:only-of-type {\n",
       "        vertical-align: middle;\n",
       "    }\n",
       "\n",
       "    .dataframe tbody tr th {\n",
       "        vertical-align: top;\n",
       "    }\n",
       "\n",
       "    .dataframe thead th {\n",
       "        text-align: right;\n",
       "    }\n",
       "</style>\n",
       "<table border=\"1\" class=\"dataframe\">\n",
       "  <thead>\n",
       "    <tr style=\"text-align: right;\">\n",
       "      <th></th>\n",
       "      <th>PassengerId</th>\n",
       "      <th>Survived</th>\n",
       "      <th>Pclass</th>\n",
       "      <th>Sex</th>\n",
       "      <th>Age</th>\n",
       "      <th>SibSp</th>\n",
       "      <th>Parch</th>\n",
       "      <th>Cabin</th>\n",
       "    </tr>\n",
       "  </thead>\n",
       "  <tbody>\n",
       "    <tr>\n",
       "      <th>PassengerId</th>\n",
       "      <td>1.000000</td>\n",
       "      <td>0.021602</td>\n",
       "      <td>-0.041003</td>\n",
       "      <td>0.029598</td>\n",
       "      <td>0.042634</td>\n",
       "      <td>-0.060683</td>\n",
       "      <td>-0.011294</td>\n",
       "      <td>-0.025955</td>\n",
       "    </tr>\n",
       "    <tr>\n",
       "      <th>Survived</th>\n",
       "      <td>0.021602</td>\n",
       "      <td>1.000000</td>\n",
       "      <td>-0.343376</td>\n",
       "      <td>-0.573236</td>\n",
       "      <td>-0.035092</td>\n",
       "      <td>-0.023915</td>\n",
       "      <td>0.091022</td>\n",
       "      <td>-0.257337</td>\n",
       "    </tr>\n",
       "    <tr>\n",
       "      <th>Pclass</th>\n",
       "      <td>-0.041003</td>\n",
       "      <td>-0.343376</td>\n",
       "      <td>1.000000</td>\n",
       "      <td>0.134417</td>\n",
       "      <td>-0.397078</td>\n",
       "      <td>0.078316</td>\n",
       "      <td>0.003588</td>\n",
       "      <td>0.689342</td>\n",
       "    </tr>\n",
       "    <tr>\n",
       "      <th>Sex</th>\n",
       "      <td>0.029598</td>\n",
       "      <td>-0.573236</td>\n",
       "      <td>0.134417</td>\n",
       "      <td>1.000000</td>\n",
       "      <td>0.115031</td>\n",
       "      <td>-0.124176</td>\n",
       "      <td>-0.251512</td>\n",
       "      <td>0.085964</td>\n",
       "    </tr>\n",
       "    <tr>\n",
       "      <th>Age</th>\n",
       "      <td>0.042634</td>\n",
       "      <td>-0.035092</td>\n",
       "      <td>-0.397078</td>\n",
       "      <td>0.115031</td>\n",
       "      <td>1.000000</td>\n",
       "      <td>-0.316954</td>\n",
       "      <td>-0.212164</td>\n",
       "      <td>-0.298752</td>\n",
       "    </tr>\n",
       "    <tr>\n",
       "      <th>SibSp</th>\n",
       "      <td>-0.060683</td>\n",
       "      <td>-0.023915</td>\n",
       "      <td>0.078316</td>\n",
       "      <td>-0.124176</td>\n",
       "      <td>-0.316954</td>\n",
       "      <td>1.000000</td>\n",
       "      <td>0.437123</td>\n",
       "      <td>0.048420</td>\n",
       "    </tr>\n",
       "    <tr>\n",
       "      <th>Parch</th>\n",
       "      <td>-0.011294</td>\n",
       "      <td>0.091022</td>\n",
       "      <td>0.003588</td>\n",
       "      <td>-0.251512</td>\n",
       "      <td>-0.212164</td>\n",
       "      <td>0.437123</td>\n",
       "      <td>1.000000</td>\n",
       "      <td>-0.025222</td>\n",
       "    </tr>\n",
       "    <tr>\n",
       "      <th>Cabin</th>\n",
       "      <td>-0.025955</td>\n",
       "      <td>-0.257337</td>\n",
       "      <td>0.689342</td>\n",
       "      <td>0.085964</td>\n",
       "      <td>-0.298752</td>\n",
       "      <td>0.048420</td>\n",
       "      <td>-0.025222</td>\n",
       "      <td>1.000000</td>\n",
       "    </tr>\n",
       "  </tbody>\n",
       "</table>\n",
       "</div>"
      ],
      "text/plain": [
       "             PassengerId  Survived    Pclass       Sex       Age     SibSp  \\\n",
       "PassengerId     1.000000  0.021602 -0.041003  0.029598  0.042634 -0.060683   \n",
       "Survived        0.021602  1.000000 -0.343376 -0.573236 -0.035092 -0.023915   \n",
       "Pclass         -0.041003 -0.343376  1.000000  0.134417 -0.397078  0.078316   \n",
       "Sex             0.029598 -0.573236  0.134417  1.000000  0.115031 -0.124176   \n",
       "Age             0.042634 -0.035092 -0.397078  0.115031  1.000000 -0.316954   \n",
       "SibSp          -0.060683 -0.023915  0.078316 -0.124176 -0.316954  1.000000   \n",
       "Parch          -0.011294  0.091022  0.003588 -0.251512 -0.212164  0.437123   \n",
       "Cabin          -0.025955 -0.257337  0.689342  0.085964 -0.298752  0.048420   \n",
       "\n",
       "                Parch     Cabin  \n",
       "PassengerId -0.011294 -0.025955  \n",
       "Survived     0.091022 -0.257337  \n",
       "Pclass       0.003588  0.689342  \n",
       "Sex         -0.251512  0.085964  \n",
       "Age         -0.212164 -0.298752  \n",
       "SibSp        0.437123  0.048420  \n",
       "Parch        1.000000 -0.025222  \n",
       "Cabin       -0.025222  1.000000  "
      ]
     },
     "execution_count": 142,
     "metadata": {},
     "output_type": "execute_result"
    }
   ],
   "source": [
    "# Here we have a correlation matrix so we can once again confirm which features are important\n",
    "new_train_data.corr()"
   ]
  },
  {
   "cell_type": "code",
   "execution_count": 206,
   "id": "f411dd4e-b7ab-4392-b3ad-2a3c75f62731",
   "metadata": {},
   "outputs": [],
   "source": [
    "# as we can see, sex and class are the two biggest factors in survival and they arent highly correlated with each other so we can\n",
    "# perform a logistic regression. Logistic regression is a ML model that creates a \"decision boundary\" where items will be labeled\n",
    "# with either class 0 (died) or class 1 (survived) based on a probability calculated using the attributes given in this case Sex and Pclass."
   ]
  },
  {
   "cell_type": "code",
   "execution_count": 167,
   "id": "9cd35893-8601-4884-9397-9b52ed444044",
   "metadata": {},
   "outputs": [],
   "source": [
    "x = new_train_data[['Sex','Pclass']]"
   ]
  },
  {
   "cell_type": "code",
   "execution_count": 168,
   "id": "1acfda3b-e2d9-4ae0-853f-d60815b60392",
   "metadata": {},
   "outputs": [],
   "source": [
    "y=new_train_data['Survived']"
   ]
  },
  {
   "cell_type": "code",
   "execution_count": 169,
   "id": "223b587a-01dd-40d9-86df-bc4aa1de9a67",
   "metadata": {},
   "outputs": [],
   "source": [
    "x_train, x_test, y_train, y_test = train_test_split(\n",
    "    x, y, test_size=0.2)"
   ]
  },
  {
   "cell_type": "code",
   "execution_count": 210,
   "id": "2bcf1035-76aa-40d0-9ea5-77dc50634bd3",
   "metadata": {},
   "outputs": [],
   "source": [
    "from sklearn.linear_model import LogisticRegression\n",
    "from sklearn.metrics import accuracy_score, classification_report\n",
    "from sklearn.model_selection import cross_val_predict, LeaveOneOut"
   ]
  },
  {
   "cell_type": "code",
   "execution_count": 171,
   "id": "dc97c08b-724e-4147-b843-fa1fa55eba55",
   "metadata": {},
   "outputs": [],
   "source": [
    "model1=LogisticRegression()"
   ]
  },
  {
   "cell_type": "code",
   "execution_count": 182,
   "id": "cdeaa093-e5e3-41ef-a2ad-53bc0b21a958",
   "metadata": {},
   "outputs": [],
   "source": [
    "model1.fit(x_train, y_train)\n",
    "plt.show()"
   ]
  },
  {
   "cell_type": "code",
   "execution_count": 176,
   "id": "b9678aae-3805-4a95-bad4-f9b9e5f77b1b",
   "metadata": {},
   "outputs": [
    {
     "data": {
      "text/plain": [
       "0.7666666666666667"
      ]
     },
     "execution_count": 176,
     "metadata": {},
     "output_type": "execute_result"
    }
   ],
   "source": [
    "survival_prediction = model1.predict(x_test)\n",
    "accuracy_score(y_test, survival_prediction)"
   ]
  },
  {
   "cell_type": "code",
   "execution_count": 234,
   "id": "fe99135a-1162-4798-bfbb-8598bcea2658",
   "metadata": {},
   "outputs": [
    {
     "name": "stdout",
     "output_type": "stream",
     "text": [
      "              precision    recall  f1-score   support\n",
      "\n",
      "           0       0.70      0.93      0.80        15\n",
      "           1       0.90      0.60      0.72        15\n",
      "\n",
      "    accuracy                           0.77        30\n",
      "   macro avg       0.80      0.77      0.76        30\n",
      "weighted avg       0.80      0.77      0.76        30\n",
      "\n"
     ]
    }
   ],
   "source": [
    "print(classification_report(y_test, survival_prediction))"
   ]
  },
  {
   "cell_type": "code",
   "execution_count": 227,
   "id": "d3cb0757-6c65-4fcc-b200-4b78db397dd8",
   "metadata": {},
   "outputs": [],
   "source": [
    "leaveoneout = LeaveOneOut()\n",
    "model1crossval = cross_val_predict(LogisticRegression(), x, y, cv=leaveoneout)\n",
    "# as we can see here, the cross validation decreased the precision for the 0 class, but overall increased the weighted average of all\n",
    "# measures of accuracy. The model seems to be working well with an f score of 0.78"
   ]
  },
  {
   "cell_type": "code",
   "execution_count": 235,
   "id": "f68e1b90-a437-4a24-b165-ce2d44ceea4a",
   "metadata": {},
   "outputs": [
    {
     "name": "stdout",
     "output_type": "stream",
     "text": [
      "              precision    recall  f1-score   support\n",
      "\n",
      "           0       0.61      0.92      0.73        51\n",
      "           1       0.95      0.70      0.80        99\n",
      "\n",
      "    accuracy                           0.77       150\n",
      "   macro avg       0.78      0.81      0.77       150\n",
      "weighted avg       0.83      0.77      0.78       150\n",
      "\n"
     ]
    }
   ],
   "source": [
    "print(classification_report(y, model1crossval))"
   ]
  },
  {
   "cell_type": "code",
   "execution_count": 201,
   "id": "3d4b2bf7-24e8-46af-85aa-d76fa3fac8f2",
   "metadata": {},
   "outputs": [],
   "source": [
    "from sklearn.neighbors import KNeighborsClassifier\n",
    "\n",
    "# The next model I chose was K nearest neighbors. K nearest neighbors works by taking a point and finding the distance\n",
    "# from the training points using distance metrics, and then the point is labeled by its \"nearest neighbor\", aka\n",
    "# the label of the point with the shortest distance metric. The reason I chose K to be 3 was basically just trial and error.\n",
    "# For binary classifiers you shouldn't choose an even number because of the \"voting\" method of which nearest neighbor a point belongs to.\n",
    "# So I tested out 1, 3, 5, 7, and found that 3 resulted in the highest accuracy.\n",
    "model2 = KNeighborsClassifier(n_neighbors=3)\n",
    "\n",
    "model2.fit(x_train, y_train)\n",
    "\n",
    "knn_survival_predict = model2.predict(x_test)"
   ]
  },
  {
   "cell_type": "code",
   "execution_count": 236,
   "id": "1f3c8e00-42a7-4598-883a-1b1c030bed80",
   "metadata": {},
   "outputs": [
    {
     "name": "stdout",
     "output_type": "stream",
     "text": [
      "              precision    recall  f1-score   support\n",
      "\n",
      "           0       0.70      0.93      0.80        15\n",
      "           1       0.90      0.60      0.72        15\n",
      "\n",
      "    accuracy                           0.77        30\n",
      "   macro avg       0.80      0.77      0.76        30\n",
      "weighted avg       0.80      0.77      0.76        30\n",
      "\n"
     ]
    }
   ],
   "source": [
    "print(classification_report(y_test, knn_survival_predict))"
   ]
  },
  {
   "cell_type": "code",
   "execution_count": 229,
   "id": "6b6c90fb-6fc8-4d36-b5f9-d472121d4814",
   "metadata": {},
   "outputs": [],
   "source": [
    "model2crossval = cross_val_predict(KNeighborsClassifier(n_neighbors=3), x, y, cv=leaveoneout)\n",
    "# The cross validation here lowered the measures of accuracy for the 0 class but raised them for the 1 class. Overall we have\n",
    "# similar weighted averages both before and after the cross validation. "
   ]
  },
  {
   "cell_type": "code",
   "execution_count": 237,
   "id": "a759e0f5-d182-48c0-ac1b-4478d1f510c4",
   "metadata": {},
   "outputs": [
    {
     "name": "stdout",
     "output_type": "stream",
     "text": [
      "              precision    recall  f1-score   support\n",
      "\n",
      "           0       0.60      0.88      0.71        51\n",
      "           1       0.92      0.70      0.79        99\n",
      "\n",
      "    accuracy                           0.76       150\n",
      "   macro avg       0.76      0.79      0.75       150\n",
      "weighted avg       0.81      0.76      0.77       150\n",
      "\n"
     ]
    }
   ],
   "source": [
    "print(classification_report(y, model2crossval))"
   ]
  },
  {
   "cell_type": "code",
   "execution_count": 203,
   "id": "c8376c33-fa9e-414b-89f2-7f50340650e5",
   "metadata": {},
   "outputs": [],
   "source": [
    "from sklearn.ensemble import RandomForestClassifier\n",
    "# My last model was a random forest classifier. The way the random forest works is by making multiple decision trees, \n",
    "# which recursively determine probabilities and make a new node based on those probabilities until it makes a final label.\n",
    "# Random forest makes multiple decision trees, and then whichever label is the majority out of all the decision trees is the final label\n",
    "model3 = RandomForestClassifier()\n",
    "model3.fit(x_train,y_train)\n",
    "\n",
    "rf_survival_predict=model3.predict(x_test)\n"
   ]
  },
  {
   "cell_type": "code",
   "execution_count": 238,
   "id": "8b3e16d0-4cc7-4308-a065-28a7a3cef643",
   "metadata": {},
   "outputs": [
    {
     "name": "stdout",
     "output_type": "stream",
     "text": [
      "              precision    recall  f1-score   support\n",
      "\n",
      "           0       0.70      0.93      0.80        15\n",
      "           1       0.90      0.60      0.72        15\n",
      "\n",
      "    accuracy                           0.77        30\n",
      "   macro avg       0.80      0.77      0.76        30\n",
      "weighted avg       0.80      0.77      0.76        30\n",
      "\n"
     ]
    }
   ],
   "source": [
    "print(classification_report(y_test, rf_survival_predict))"
   ]
  },
  {
   "cell_type": "code",
   "execution_count": 231,
   "id": "342061be-65ec-435b-b105-bdb5adf6c6c1",
   "metadata": {},
   "outputs": [],
   "source": [
    "model3crossval = cross_val_predict(RandomForestClassifier(), x, y, cv=leaveoneout)\n",
    "# once again the cross validation had better results for class 1 and overall did not have much effect."
   ]
  },
  {
   "cell_type": "code",
   "execution_count": 233,
   "id": "d2871373-7a8d-4e1d-bfd6-6ac84d14e8af",
   "metadata": {},
   "outputs": [
    {
     "name": "stdout",
     "output_type": "stream",
     "text": [
      "              precision    recall  f1-score   support\n",
      "\n",
      "           0       0.60      0.88      0.71        51\n",
      "           1       0.92      0.70      0.79        99\n",
      "\n",
      "    accuracy                           0.76       150\n",
      "   macro avg       0.76      0.79      0.75       150\n",
      "weighted avg       0.81      0.76      0.77       150\n",
      "\n"
     ]
    }
   ],
   "source": [
    "print(classification_report(y, model3crossval))"
   ]
  },
  {
   "cell_type": "code",
   "execution_count": null,
   "id": "8233fd85-7657-45c6-beeb-4117c387e152",
   "metadata": {},
   "outputs": [],
   "source": [
    "# After trying all 3 models I would decide on Logistic regression with cross validation. This had the hihgest weighted averages for \n",
    "# precision, recall, and fscore which is why I think overall it is the best for this data set. "
   ]
  }
 ],
 "metadata": {
  "kernelspec": {
   "display_name": "Python 3 (ipykernel)",
   "language": "python",
   "name": "python3"
  },
  "language_info": {
   "codemirror_mode": {
    "name": "ipython",
    "version": 3
   },
   "file_extension": ".py",
   "mimetype": "text/x-python",
   "name": "python",
   "nbconvert_exporter": "python",
   "pygments_lexer": "ipython3",
   "version": "3.11.7"
  }
 },
 "nbformat": 4,
 "nbformat_minor": 5
}
